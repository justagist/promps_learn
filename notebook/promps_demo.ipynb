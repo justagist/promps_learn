{
 "cells": [
  {
   "cell_type": "markdown",
   "metadata": {},
   "source": [
    "# PRObabilistic Motion Primitives (PROMPs)"
   ]
  },
  {
   "cell_type": "code",
   "execution_count": 41,
   "metadata": {},
   "outputs": [],
   "source": [
    "import numpy as np\n",
    "import matplotlib.pyplot as plt\n",
    "from scipy.interpolate import interp1d\n",
    "%matplotlib inline"
   ]
  },
  {
   "cell_type": "markdown",
   "metadata": {},
   "source": [
    "## Generate a trajectory using a system dynamics\n",
    "Consider a system having the following dynamics: $\\dot{x} = Ax + Bu$, \n",
    "\n",
    "where $x$ is the state of the system, $A$ is the system matrix, $B$ is the control matrix and $u$ the control commands.\n",
    "\n",
    "Here, let $x$ be a vector containing the one dimensional position and velocity, $ x = [p \\quad\\dot{p}]^T$. Note that each dimension requires a separate PROMPs trajectory.\n",
    "\n",
    "Therefore dimension of $A$ is $2\\times2$ (num_states x num_states), and $B$ is $2\\times1$ (num_states x control_dims).\n",
    "\n",
    "The next state $x_t$ can be obtained by integrating the dynamics discretely:\n",
    "\n",
    "$$x_{t} = (I + A dt) + (B dt \\times u)$$\n",
    "\n",
    "Generate a set of demo trajectory using this dynamics (adding some noise for variations):"
   ]
  },
  {
   "cell_type": "code",
   "execution_count": 42,
   "metadata": {},
   "outputs": [
    {
     "data": {
      "text/plain": [
       "[<matplotlib.lines.Line2D at 0x7f8d5d210ed0>]"
      ]
     },
     "execution_count": 42,
     "metadata": {},
     "output_type": "execute_result"
    },
    {
     "data": {
      "image/png": "[encoded data removed]",
      "text/plain": [
       "<matplotlib.figure.Figure at 0x7f8d5d2a1d10>"
      ]
     },
     "metadata": {},
     "output_type": "display_data"
    }
   ],
   "source": [
    "num_trajs = 100 # number of demo trajectories\n",
    "\n",
    "# ----- the following system dynamics is used\n",
    "A = np.array([ [0.,1.], [0., 0.] ])\n",
    "B = np.array([ [0.], [1.] ]) \n",
    "start_x = np.array([[0],[0]]) # initial state (pos, vel)\n",
    "\n",
    "noise = 1 # for randomising the control commands so as to generate slightly different trajectories\n",
    "num_points = 200 # number of points in each trajectory. (Should be same as promps phase time_steps)\n",
    "\n",
    "traj_list = []\n",
    "\n",
    "# ----- Obtain next state using integrated system dynamics, previous state and control command\n",
    "def next_x(prev_x, cmd):\n",
    "    dt = 0.005 # (should be same as promps dt)\n",
    "    return np.dot(np.eye(2) + A*dt, prev_x) + np.dot(B*dt, cmd)\n",
    "\n",
    "pos_list = [] # list of position values (1 dimensional positions)\n",
    "vel_list = [] # list of velocities\n",
    "\n",
    "# ----- generate multiple demo trajectories by adding slight noise to the basic system dynamics\n",
    "for _ in range(num_trajs):\n",
    "\n",
    "    prev_x = start_x\n",
    "\n",
    "    # ----- numpy arrays to hold the position and velocity trajectory points\n",
    "    pos_traj = np.zeros(num_points)\n",
    "    vel_traj = np.zeros(num_points)\n",
    "\n",
    "    pos_traj[0] = start_x[0]\n",
    "    vel_traj[0] = start_x[1]\n",
    "\n",
    "    # ----- control commands in the form of sine wave\n",
    "    cmd_list = np.sin(np.linspace(0,4*np.pi,num_points)) \n",
    "    cmd = cmd_list + np.random.randn(num_points)*0.1 # noise added for variations\n",
    "    \n",
    "    for i in range(1,num_points):\n",
    "\n",
    "        x = next_x(prev_x, cmd[i-1])\n",
    "        pos_traj[i] = x[0]\n",
    "        vel_traj[i] = x[1]\n",
    "        prev_x = x\n",
    "\n",
    "    pos_list.append(pos_traj)\n",
    "    vel_list.append(vel_traj)\n",
    "    \n",
    "# ----- plot and check one of the position trajectories\n",
    "plt.plot(pos_list[0])"
   ]
  },
  {
   "cell_type": "markdown",
   "metadata": {},
   "source": [
    "### Define Basis Function Parameters"
   ]
  },
  {
   "cell_type": "code",
   "execution_count": 43,
   "metadata": {},
   "outputs": [],
   "source": [
    "#number of basis function\n",
    "n_bfs = 35\n",
    "#variance of the basis function\n",
    "bfs_sigma = 0.0286\n",
    "#centers of the basis function\n",
    "bfs_centres = np.linspace(0, 1, n_bfs)\n",
    "\n",
    "#list that stores all the weights\n",
    "W = []\n",
    "\n",
    "#mean and sigma of the weights\n",
    "mean_W  = None\n",
    "sigma_W = None"
   ]
  },
  {
   "cell_type": "markdown",
   "metadata": {},
   "source": [
    "### Phase for the trajectory\n",
    "Time evolves from 0 to 1. Phase defines how quickly the time evolves for a trajectory"
   ]
  },
  {
   "cell_type": "code",
   "execution_count": 50,
   "metadata": {},
   "outputs": [],
   "source": [
    "dt = 0.005 # defined earlier\n",
    "\n",
    "\n",
    "# phase_speed = 1 # default, actual speed of trajectory\n",
    "\n",
    "def get_phase_variables(phase_speed):\n",
    "    \"\"\"\n",
    "    This funciton gives the phase variables and \n",
    "    its first and second derivatives\n",
    "    \"\"\"\n",
    "    phase_start = -dt\n",
    "    time_steps = int(num_points/phase_speed) # defined earlier\n",
    "    phase_end = phase_start + time_steps*dt\n",
    "    # ----- derivative of phase variable\n",
    "    Dz  = np.ones(time_steps)*phase_speed\n",
    "    \n",
    "    # ----- phase variable\n",
    "    phase_z   = np.cumsum(Dz)*dt\n",
    "\n",
    "    # ----- second derivative of phase variable\n",
    "    DDz = np.diff(Dz)/dt\n",
    "    DDz = np.hstack([DDz, DDz[-1]])\n",
    "    \n",
    "    return phase_z, Dz, DDz\n",
    "\n",
    "def get_phase_from_time(time_steps):\n",
    "    \"\"\"\n",
    "    This funciton is to convert a timestep\n",
    "    to a phase\n",
    "    \"\"\"\n",
    "    return time_steps/phase_end\n",
    "\n",
    "def get_time_step(t):\n",
    "    \"\"\"\n",
    "    This function is to compute the \n",
    "    time step of a phase\n",
    "    \"\"\"\n",
    "    phase = get_phase_from_time(t)\n",
    "    return int(phase*time_steps)"
   ]
  },
  {
   "cell_type": "markdown",
   "metadata": {},
   "source": [
    "### Basis Function"
   ]
  },
  {
   "cell_type": "code",
   "execution_count": 45,
   "metadata": {},
   "outputs": [],
   "source": [
    "def generate_basis_function(phase_z, phase_zd, phase_zdd):\n",
    "    \"\"\"\n",
    "    This function generates the basis funciton, first derivative and second derivative\n",
    "    from a phase\n",
    "    Args:\n",
    "    phase_z   = phase of the trajectory (type: np.array([time steps, 1]))\n",
    "    phaze_zd  = velocity of the phase (type: np.array([time steps, 1]))\n",
    "    phaze_zds = acceleration of the phase (type: np.array([time steps, 1]))\n",
    "    \n",
    "    Equations are from paper (https://link.springer.com/content/pdf/10.1007%2Fs10514-017-9648-7.pdf) \n",
    "    and their matlab implementation.\n",
    "    \"\"\"\n",
    "\n",
    "    # basis functions\n",
    "    phase_minus_centre = np.array(map(lambda x: x - bfs_centres, np.tile(phase_z, (n_bfs, 1)).T)).T\n",
    "\n",
    "    #basis function\n",
    "    Phi   = np.exp(-0.5 *np.power(phase_minus_centre/bfs_sigma, 2)) / (np.sqrt(2.*np.pi)*bfs_sigma)\n",
    "\n",
    "    #first derivative of basis function\n",
    "    PhiD  = np.multiply(Phi,  -phase_minus_centre/(bfs_sigma ** 2))\n",
    "\n",
    "    #second derivative of basis function\n",
    "    PhiDD = Phi/(-bfs_sigma ** 2) + np.multiply(-phase_minus_centre/(bfs_sigma ** 2), PhiD)\n",
    "\n",
    "    #for normalization purposes\n",
    "    sum_bfs    = np.sum(Phi,   axis=0)\n",
    "    sum_bfsD   = np.sum(PhiD,  axis=0)\n",
    "    sum_bfsDD  = np.sum(PhiDD, axis=0)\n",
    "\n",
    "    # normalize according to the matlab implementation of imitation promps\n",
    "    PhiD_normalized = ( (PhiD * sum_bfs - Phi * sum_bfsD) * 1./np.power(sum_bfs, 2) ) \n",
    "\n",
    "    Phi_normalized  = Phi/sum_bfs[None, :]\n",
    "\n",
    "    tmp1 = Phi * (2 * np.power(sum_bfsD, 2) - np.multiply(sum_bfs, sum_bfsDD))\n",
    "\n",
    "    tmp2 = tmp1 + PhiDD * np.power(sum_bfs, 2) - 2 * PhiD * sum_bfs * sum_bfsD\n",
    "\n",
    "    #normalize acceleration\n",
    "    PhiDD_normalized = tmp2 * (1./(np.power(sum_bfs, 3)))\n",
    "\n",
    "    #adding phase dependency\n",
    "    PhiDD_normalized = PhiDD_normalized * np.power(phase_zd, 2)  + PhiD_normalized * phase_zdd\n",
    "    PhiD_normalized  = PhiD_normalized * phase_zd\n",
    "\n",
    "    return Phi_normalized, PhiD_normalized, PhiDD_normalized\n",
    "\n",
    "# Generate the Basis Function for the demo trajectory using the default phase values (i.e, phase speed = 1)\n",
    "phase_z, Dz, DDz = get_phase_variables(1)\n",
    "Phi, PhiD, PhiDD = generate_basis_function(phase_z, Dz, DDz)"
   ]
  },
  {
   "cell_type": "markdown",
   "metadata": {},
   "source": [
    "### Train the PROMP"
   ]
  },
  {
   "cell_type": "code",
   "execution_count": 46,
   "metadata": {},
   "outputs": [],
   "source": [
    "\"\"\"\n",
    "Finds the weights of the \n",
    "given demonstration by first interpolating them\n",
    "to 0-1 range and then finding the kernel weights\n",
    "corresponding to each trajectory\n",
    "\n",
    "import matplotlib.pyplot as plt\n",
    "for k in range(35):\n",
    "    plt.plot(self._Phi[k, :])\n",
    "plt.show()\n",
    "\"\"\"\n",
    "\n",
    "for demo_traj in pos_list:\n",
    "\n",
    "    interpolate = interp1d(phase_z, demo_traj, kind='cubic')\n",
    "\n",
    "    #strech the trajectory to fit 0 to 1\n",
    "    stretched_demo = interpolate(phase_z)[None,:]\n",
    "\n",
    "    #compute the weights of the trajectory using the basis function\n",
    "    w_demo_traj = np.dot(np.linalg.inv(np.dot(Phi, Phi.T) + 1e-12*np.eye(n_bfs) ), np.dot(Phi, stretched_demo.T)).T  # weights for each trajectory\n",
    "\n",
    "    #append the weights to the list\n",
    "    W.append(w_demo_traj.copy())\n",
    "\n",
    "W =  np.asarray(W).squeeze()\n",
    "\n",
    "# mean of weights\n",
    "mean_W = np.mean(W, axis=0)\n",
    "\n",
    "# covariance of weights\n",
    "# w1 = np.array(map(lambda x: x - self._mean_W.T, self._W))\n",
    "# self._sigma_W = np.dot(w1.T, w1)/self._W.shape[0]\n",
    "\n",
    "sigma_W = np.cov(W.T)"
   ]
  },
  {
   "cell_type": "markdown",
   "metadata": {},
   "source": [
    "### Sample a trajectory from the distribution"
   ]
  },
  {
   "cell_type": "code",
   "execution_count": 47,
   "metadata": {},
   "outputs": [],
   "source": [
    "# ----- get a weight sample from the weight distribution\n",
    "randomness = 1e-4\n",
    "sample_W =  np.random.multivariate_normal(mean_W, randomness*sigma_W, 1).T\n",
    "\n",
    "# ----- Computing the mean and sigma of the trajectory from the weight and basis functions\n",
    "mean_of_sample_traj = np.dot(Phi.T, sample_W)\n",
    "sigma_of_sample_traj = np.dot( np.dot(Phi.T, sigma_W), Phi)"
   ]
  },
  {
   "cell_type": "markdown",
   "metadata": {},
   "source": [
    "### Function to plot mean and sigma"
   ]
  },
  {
   "cell_type": "code",
   "execution_count": 48,
   "metadata": {},
   "outputs": [
    {
     "data": {
      "image/png": "[encoded data removed]",
      "text/plain": [
       "<matplotlib.figure.Figure at 0x7f8d5d2aa5d0>"
      ]
     },
     "metadata": {},
     "output_type": "display_data"
    }
   ],
   "source": [
    "def plot_mean_and_sigma(mean, sigma, interval=3, color_mean=None, color_shading=None, label=''):\n",
    "\n",
    "    \"\"\"\n",
    "    Expects mean = [Nx1] and Sigma [NxN]\n",
    "    The computed sigma is NxN, so diag of that is taken to get the variance\n",
    "    \"\"\"\n",
    "\n",
    "    lower_bound = mean - interval*np.diag(sigma)\n",
    "    upper_bound = mean + interval*np.diag(sigma)\n",
    "\n",
    "    # ----- plot the shaded range of the confidence intervals\n",
    "    plt.fill_between(range(mean.shape[0]), lower_bound, upper_bound, color=color_shading, alpha=.5)\n",
    "\n",
    "    # ----- plot the mean on top\n",
    "    plt.plot(mean, color_mean, label=label)\n",
    "\n",
    "    # ----- removing the extra label handles\n",
    "    handles, labels = plt.gca().get_legend_handles_labels()\n",
    "    i =1\n",
    "    while i<len(labels):\n",
    "        if labels[i] in labels[:i]:\n",
    "            del(labels[i])\n",
    "            del(handles[i])\n",
    "        else:\n",
    "            i +=1\n",
    "\n",
    "    plt.legend(handles, labels)\n",
    "    \n",
    "# ----- plot the generated trajectory\n",
    "plot_mean_and_sigma(mean_of_sample_traj.squeeze(), sigma_of_sample_traj, color_mean='r', color_shading='r', label='speed=1')"
   ]
  },
  {
   "cell_type": "markdown",
   "metadata": {},
   "source": [
    "### Generate trajectories for different speeds"
   ]
  },
  {
   "cell_type": "code",
   "execution_count": 51,
   "metadata": {},
   "outputs": [
    {
     "data": {
      "image/png": "[encoded data removed]",
      "text/plain": [
       "<matplotlib.figure.Figure at 0x7f8d5d2aabd0>"
      ]
     },
     "metadata": {},
     "output_type": "display_data"
    }
   ],
   "source": [
    "phase1_z, phase1_dz, phase1_ddz = get_phase_variables(0.8)\n",
    "phase2_z, phase2_dz, phase2_ddz = get_phase_variables(1.3)\n",
    "\n",
    "#create new basis functions\n",
    "Phi1, PhiD1, PhiDD1  = generate_basis_function(phase_z=phase1_z, phase_zd=phase1_dz, phase_zdd=phase1_ddz)\n",
    "Phi2, PhiD2, PhiDD2  = generate_basis_function(phase_z=phase2_z, phase_zd=phase2_dz, phase_zdd=phase2_ddz)\n",
    "\n",
    "# ----- get mean and variance of basis functions for the new trajectories using the previously generated sample and the new basis functions\n",
    "mean_of_sample_traj1 = np.dot(Phi1.T, sample_W)\n",
    "sigma_of_sample_traj1 = np.dot( np.dot(Phi1.T, sigma_W), Phi1)\n",
    "\n",
    "mean_of_sample_traj2 = np.dot(Phi2.T, sample_W)\n",
    "sigma_of_sample_traj2 = np.dot( np.dot(Phi2.T, sigma_W), Phi2)\n",
    "\n",
    "plot_mean_and_sigma(mean_of_sample_traj1.squeeze(), sigma_of_sample_traj1, color_mean='g', color_shading='g', label='speed=0.8')\n",
    "plot_mean_and_sigma(mean_of_sample_traj.squeeze(), sigma_of_sample_traj, color_mean='r', color_shading='r', label='speed=1')\n",
    "plot_mean_and_sigma(mean_of_sample_traj2.squeeze(), sigma_of_sample_traj2, color_mean='b', color_shading='b', label='speed=1.3')"
   ]
  },
  {
   "cell_type": "markdown",
   "metadata": {},
   "source": [
    "### Adding via-points to the trajectories"
   ]
  },
  {
   "cell_type": "code",
   "execution_count": 62,
   "metadata": {},
   "outputs": [
    {
     "data": {
      "image/png": "[encoded data removed]",
      "text/plain": [
       "<matplotlib.figure.Figure at 0x7f8d5d3863d0>"
      ]
     },
     "metadata": {},
     "output_type": "display_data"
    }
   ],
   "source": [
    "via_points = [(0.2, .02),(0.6, .06)]\n",
    "\n",
    "# ----- speed 0.8\n",
    "phase_speed = 0.8\n",
    "new_mean_W   = mean_W\n",
    "new_sigma_W  = sigma_W\n",
    "\n",
    "phase1_z, phase1_dz, phase1_ddz = get_phase_variables(0.8)\n",
    "phase2_z, phase2_dz, phase2_ddz = get_phase_variables(1.3)\n",
    "\n",
    "#create new basis functions\n",
    "Phi1, PhiD1, PhiDD1  = generate_basis_function(phase_z=phase1_z, phase_zd=phase1_dz, phase_zdd=phase1_ddz)\n",
    "Phi2, PhiD2, PhiDD2  = generate_basis_function(phase_z=phase2_z, phase_zd=phase2_dz, phase_zdd=phase2_ddz)\n",
    "\n",
    "traj_point_sigma=1e-6 # constraint strength for the via points (observation variance)\n",
    "#loop for all viapoints, to transform \n",
    "#the mean and covariance\n",
    "for viapoint in via_points:\n",
    "    \n",
    "    plt.scatter(viapoint[0]*num_points, viapoint[1], marker='*', s=500)\n",
    "    \n",
    "    # basis functions at observed time points\n",
    "\n",
    "    PhiT, _, _ = generate_basis_function(phase_z=get_phase_from_time(viapoint[0]), phase_zd=phase_speed, phase_zdd=0.)\n",
    "    \n",
    "    # Conditioning\n",
    "    aux = traj_point_sigma + np.dot(np.dot(PhiT.T, new_sigma_W), PhiT)\n",
    "    # new weight mean conditioned on observations\n",
    "    new_mean_W  = new_mean_W  + np.dot(np.dot(new_sigma_W, PhiT) * 1 / aux, (viapoint[1] - np.dot(PhiT.T, new_mean_W)))  \n",
    "    new_sigma_W = new_sigma_W - np.dot(np.dot(new_sigma_W, PhiT) * 1 / aux, np.dot(PhiT.T, new_sigma_W))\n",
    "\n",
    "#get a weight sample from the weight distribution\n",
    "sample_W =  np.random.multivariate_normal(new_mean_W, randomness*new_sigma_W, 1).T\n",
    "\n",
    "# ----- get mean and variance of basis functions for the new trajectories using the generated sample and the new basis functions\n",
    "mean_of_sample_traj1 = np.dot(Phi1.T, sample_W)\n",
    "sigma_of_sample_traj1 = np.dot( np.dot(Phi1.T, new_sigma_W), Phi1)\n",
    "\n",
    "mean_of_sample_traj2 = np.dot(Phi2.T, sample_W)\n",
    "sigma_of_sample_traj2 = np.dot( np.dot(Phi2.T, new_sigma_W), Phi2)\n",
    "\n",
    "plot_mean_and_sigma(mean_of_sample_traj1.squeeze(), sigma_of_sample_traj1, color_mean='g', color_shading='g', label='speed=0.8')\n",
    "plot_mean_and_sigma(mean_of_sample_traj.squeeze(), sigma_of_sample_traj, color_mean='r', color_shading='r', label='speed=1')\n",
    "plot_mean_and_sigma(mean_of_sample_traj2.squeeze(), sigma_of_sample_traj2, color_mean='b', color_shading='b', label='speed=1.3')"
   ]
  }
 ],
 "metadata": {
  "kernelspec": {
   "display_name": "Python 2",
   "language": "python",
   "name": "python2"
  },
  "language_info": {
   "codemirror_mode": {
    "name": "ipython",
    "version": 2
   },
   "file_extension": ".py",
   "mimetype": "text/x-python",
   "name": "python",
   "nbconvert_exporter": "python",
   "pygments_lexer": "ipython2",
   "version": "2.7.12"
  }
 },
 "nbformat": 4,
 "nbformat_minor": 2
}
