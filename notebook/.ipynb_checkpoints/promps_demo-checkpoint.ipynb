{
 "cells": [
  {
   "cell_type": "markdown",
   "metadata": {},
   "source": [
    "# PRObabilistic Motion Primitives (PROMPs)"
   ]
  },
  {
   "cell_type": "code",
   "execution_count": 13,
   "metadata": {},
   "outputs": [],
   "source": [
    "import numpy as np\n",
    "import matplotlib.pyplot as plt\n",
    "%matplotlib inline"
   ]
  },
  {
   "cell_type": "markdown",
   "metadata": {},
   "source": [
    "## Generate a trajectory using a system dynamics\n",
    "Consider a system having the following dynamics: $\\dot{x} = Ax + Bu$, \n",
    "\n",
    "where $x$ is the state of the system, $A$ is the system matrix, $B$ is the control matrix and $u$ the control commands.\n",
    "\n",
    "Here, let $x$ be a vector containing the one dimensional position and velocity, $ x = [p \\quad\\dot{p}]^T$. Note that each dimension requires a separate PROMPs trajectory.\n",
    "\n",
    "Therefore dimension of $A$ is $2\\times2$ (num_states x num_states), and $B$ is $2\\times1$ (num_states x control_dims).\n",
    "\n",
    "The next state $x_t$ can be obtained by integrating the dynamics discretely:\n",
    "\n",
    "$$x_{t} = (I + A dt) + (B dt \\times u)$$\n",
    "\n",
    "Generate a set of demo trajectory using this dynamics (adding some noise for variations):"
   ]
  },
  {
   "cell_type": "code",
   "execution_count": 18,
   "metadata": {},
   "outputs": [
    {
     "data": {
      "text/plain": [
       "[<matplotlib.lines.Line2D at 0x7f159be11b90>]"
      ]
     },
     "execution_count": 18,
     "metadata": {},
     "output_type": "execute_result"
    },
    {
     "data": {
      "image/png": "[encoded data removed]",
      "text/plain": [
       "<matplotlib.figure.Figure at 0x7f159bf23650>"
      ]
     },
     "metadata": {},
     "output_type": "display_data"
    }
   ],
   "source": [
    "num_trajs = 100 # number of demo trajectories\n",
    "\n",
    "# ----- the following system dynamics is used\n",
    "A = np.array([ [0.,1.], [0., 0.] ])\n",
    "B = np.array([ [0.], [1.] ]) \n",
    "start_x = np.array([[0],[0]]) # initial state (pos, vel)\n",
    "\n",
    "noise = 1 # for randomising the control commands so as to generate slightly different trajectories\n",
    "num_points = 200 # number of points in each trajectory. (Should be same as promps phase time_steps)\n",
    "\n",
    "traj_list = []\n",
    "\n",
    "# ----- Obtain next state using integrated system dynamics, previous state and control command\n",
    "def next_x(prev_x, cmd):\n",
    "    dt = 0.005 # (should be same as promps dt)\n",
    "    return np.dot(np.eye(2) + A*dt, prev_x) + np.dot(B*dt, cmd)\n",
    "\n",
    "pos_list = [] # list of position values (1 dimensional positions)\n",
    "vel_list = [] # list of velocities\n",
    "\n",
    "# ----- generate multiple demo trajectories by adding slight noise to the basic system dynamics\n",
    "for _ in range(num_trajs):\n",
    "\n",
    "    prev_x = start_x\n",
    "\n",
    "    # ----- numpy arrays to hold the position and velocity trajectory points\n",
    "    pos_traj = np.zeros(num_points)\n",
    "    vel_traj = np.zeros(num_points)\n",
    "\n",
    "    pos_traj[0] = start_x[0]\n",
    "    vel_traj[0] = start_x[1]\n",
    "\n",
    "    # ----- control commands in the form of sine wave\n",
    "    cmd_list = np.sin(np.linspace(0,4*np.pi,num_points)) \n",
    "    cmd = cmd_list + np.random.randn(num_points)*0.1 # noise added for variations\n",
    "    \n",
    "    for i in range(1,num_points):\n",
    "\n",
    "        x = next_x(prev_x, cmd[i-1])\n",
    "        pos_traj[i] = x[0]\n",
    "        vel_traj[i] = x[1]\n",
    "        prev_x = x\n",
    "\n",
    "    pos_list.append(pos_traj)\n",
    "    vel_list.append(vel_traj)\n",
    "    \n",
    "# ----- plot and check one of the position trajectories\n",
    "plt.plot(demo_list[0])"
   ]
  },
  {
   "cell_type": "code",
   "execution_count": null,
   "metadata": {},
   "outputs": [],
   "source": []
  },
  {
   "cell_type": "code",
   "execution_count": null,
   "metadata": {},
   "outputs": [],
   "source": [
    "\n"
   ]
  }
 ],
 "metadata": {
  "kernelspec": {
   "display_name": "Python 2",
   "language": "python",
   "name": "python2"
  },
  "language_info": {
   "codemirror_mode": {
    "name": "ipython",
    "version": 2
   },
   "file_extension": ".py",
   "mimetype": "text/x-python",
   "name": "python",
   "nbconvert_exporter": "python",
   "pygments_lexer": "ipython2",
   "version": "2.7.12"
  }
 },
 "nbformat": 4,
 "nbformat_minor": 2
}
